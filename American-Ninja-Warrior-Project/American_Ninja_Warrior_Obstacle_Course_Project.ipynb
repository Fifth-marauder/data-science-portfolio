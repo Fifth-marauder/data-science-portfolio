{
  "nbformat": 4,
  "nbformat_minor": 0,
  "metadata": {
    "colab": {
      "name": "American Ninja Warrior Obstacle Course Project",
      "version": "0.3.2",
      "provenance": [],
      "collapsed_sections": [],
      "include_colab_link": true
    },
    "kernelspec": {
      "name": "python3",
      "display_name": "Python 3"
    }
  },
  "cells": [
    {
      "cell_type": "markdown",
      "metadata": {
        "id": "view-in-github",
        "colab_type": "text"
      },
      "source": [
        "<a href=\"https://colab.research.google.com/github/jerrytigerxu/American-Ninja-Warrior-Project/blob/master/American_Ninja_Warrior_Obstacle_Course_Project.ipynb\" target=\"_parent\"><img src=\"https://colab.research.google.com/assets/colab-badge.svg\" alt=\"Open In Colab\"/></a>"
      ]
    },
    {
      "metadata": {
        "id": "o6xJ4eQkizSw",
        "colab_type": "text"
      },
      "cell_type": "markdown",
      "source": [
        "Now that you are here, you are about to witness a succinct and effective cleaning of the data regarding the history of obstacles of the ten seasons of American Ninja Warrior. There will also be some cool analysis to top it off.\n",
        "\n",
        "# It's really cool, I know.\n",
        "\n",
        "---\n",
        "\n",
        "\n",
        "\n",
        "\n",
        "\n",
        "\n"
      ]
    },
    {
      "metadata": {
        "id": "fP31HpP0-jw1",
        "colab_type": "text"
      },
      "cell_type": "markdown",
      "source": [
        "### I remember watching the original Ninja Warrior that aired in Japan when I was younger. Both the original and the American version are great showcases of the capacity of human athleticism and also great showcases of my current non-so-athletic ability. But who knows, I'm only a junior in college (as of 4/12/2019), anything can happen!"
      ]
    },
    {
      "metadata": {
        "id": "I-iWwYd8lYJI",
        "colab_type": "text"
      },
      "cell_type": "markdown",
      "source": [
        "I downloaded the file \"American Ninja Warrior Obstacle History.xlsx\" from the Data.World (https://data.world/ninja/anw-obstacle-history). If you choose to follow along, the file is right there for the taking.\n",
        "\n",
        "\n",
        "Because I use Google Colab instead of Jupyter notebook, I could just save the relevant files into my Google Drive and then mount them onto Colab, allowing me to access them without needing to save to my local machine. \n",
        "\n",
        "The next few lines are specific to my workflow and are not necessary for everyone to emulate."
      ]
    },
    {
      "metadata": {
        "id": "Yx7VKOBSljr5",
        "colab_type": "code",
        "colab": {}
      },
      "cell_type": "code",
      "source": [
        "from google.colab import files"
      ],
      "execution_count": 0,
      "outputs": []
    },
    {
      "metadata": {
        "id": "N9DaouQDlwhP",
        "colab_type": "code",
        "colab": {}
      },
      "cell_type": "code",
      "source": [
        "from google.colab import drive"
      ],
      "execution_count": 0,
      "outputs": []
    },
    {
      "metadata": {
        "id": "xeIQnrtylzQC",
        "colab_type": "code",
        "outputId": "0d2df7c2-7e01-4882-8d9c-4f7c4f2ee9bd",
        "colab": {
          "base_uri": "https://localhost:8080/",
          "height": 124
        }
      },
      "cell_type": "code",
      "source": [
        "drive.mount('/content/gdrive')"
      ],
      "execution_count": 0,
      "outputs": [
        {
          "output_type": "stream",
          "text": [
            "Go to this URL in a browser: https://accounts.google.com/o/oauth2/auth?client_id=947318989803-6bn6qk8qdgf4n4g3pfee6491hc0brc4i.apps.googleusercontent.com&redirect_uri=urn%3Aietf%3Awg%3Aoauth%3A2.0%3Aoob&scope=email%20https%3A%2F%2Fwww.googleapis.com%2Fauth%2Fdocs.test%20https%3A%2F%2Fwww.googleapis.com%2Fauth%2Fdrive%20https%3A%2F%2Fwww.googleapis.com%2Fauth%2Fdrive.photos.readonly%20https%3A%2F%2Fwww.googleapis.com%2Fauth%2Fpeopleapi.readonly&response_type=code\n",
            "\n",
            "Enter your authorization code:\n",
            "··········\n",
            "Mounted at /content/gdrive\n"
          ],
          "name": "stdout"
        }
      ]
    },
    {
      "metadata": {
        "id": "JPhxLvdNl1yH",
        "colab_type": "code",
        "colab": {}
      },
      "cell_type": "code",
      "source": [
        "import numpy as np\n",
        "import pandas as pd"
      ],
      "execution_count": 0,
      "outputs": []
    },
    {
      "metadata": {
        "id": "SGrU9Vz8__1T",
        "colab_type": "text"
      },
      "cell_type": "markdown",
      "source": [
        "It is necessary to import these libraries, as they are pretty much ubiqituous to all data science workflows."
      ]
    },
    {
      "metadata": {
        "id": "ZtaQczLImz8j",
        "colab_type": "code",
        "outputId": "7fdb2a43-6e5b-407c-d04e-5fc73ade5e2f",
        "colab": {
          "base_uri": "https://localhost:8080/",
          "height": 55
        }
      },
      "cell_type": "code",
      "source": [
        "filePath = '/content/gdrive/My Drive/Google Colaboratory/Files for Google Colab/American Ninja Warrior Project'\n",
        "amwDat = pd.read_csv(filePath +'/amw.csv', error_bad_lines=False)"
      ],
      "execution_count": 0,
      "outputs": [
        {
          "output_type": "stream",
          "text": [
            "b'Skipping line 891: expected 5 fields, saw 6\\nSkipping line 892: expected 5 fields, saw 6\\nSkipping line 893: expected 5 fields, saw 6\\nSkipping line 894: expected 5 fields, saw 6\\nSkipping line 895: expected 5 fields, saw 6\\nSkipping line 896: expected 5 fields, saw 6\\nSkipping line 897: expected 5 fields, saw 6\\nSkipping line 898: expected 5 fields, saw 6\\nSkipping line 899: expected 5 fields, saw 6\\nSkipping line 900: expected 5 fields, saw 6\\nSkipping line 901: expected 5 fields, saw 6\\nSkipping line 902: expected 5 fields, saw 6\\nSkipping line 903: expected 5 fields, saw 6\\nSkipping line 904: expected 5 fields, saw 6\\nSkipping line 905: expected 5 fields, saw 6\\n'\n"
          ],
          "name": "stderr"
        }
      ]
    },
    {
      "metadata": {
        "id": "10op52HdnOrM",
        "colab_type": "code",
        "outputId": "76ced8c7-7385-4d4b-b99a-8c1a69710f86",
        "colab": {
          "base_uri": "https://localhost:8080/",
          "height": 202
        }
      },
      "cell_type": "code",
      "source": [
        "amwDat.head()"
      ],
      "execution_count": 0,
      "outputs": [
        {
          "output_type": "execute_result",
          "data": {
            "text/html": [
              "<div>\n",
              "<style scoped>\n",
              "    .dataframe tbody tr th:only-of-type {\n",
              "        vertical-align: middle;\n",
              "    }\n",
              "\n",
              "    .dataframe tbody tr th {\n",
              "        vertical-align: top;\n",
              "    }\n",
              "\n",
              "    .dataframe thead th {\n",
              "        text-align: right;\n",
              "    }\n",
              "</style>\n",
              "<table border=\"1\" class=\"dataframe\">\n",
              "  <thead>\n",
              "    <tr style=\"text-align: right;\">\n",
              "      <th></th>\n",
              "      <th>Season</th>\n",
              "      <th>Location</th>\n",
              "      <th>Round/Stage</th>\n",
              "      <th>Obstacle Name</th>\n",
              "      <th>Obstacle Order</th>\n",
              "    </tr>\n",
              "  </thead>\n",
              "  <tbody>\n",
              "    <tr>\n",
              "      <th>0</th>\n",
              "      <td>1</td>\n",
              "      <td>Venice</td>\n",
              "      <td>Qualifying</td>\n",
              "      <td>Quintuple Steps</td>\n",
              "      <td>1</td>\n",
              "    </tr>\n",
              "    <tr>\n",
              "      <th>1</th>\n",
              "      <td>1</td>\n",
              "      <td>Venice</td>\n",
              "      <td>Qualifying</td>\n",
              "      <td>Rope Swing</td>\n",
              "      <td>2</td>\n",
              "    </tr>\n",
              "    <tr>\n",
              "      <th>2</th>\n",
              "      <td>1</td>\n",
              "      <td>Venice</td>\n",
              "      <td>Qualifying</td>\n",
              "      <td>Rolling Barrel</td>\n",
              "      <td>3</td>\n",
              "    </tr>\n",
              "    <tr>\n",
              "      <th>3</th>\n",
              "      <td>1</td>\n",
              "      <td>Venice</td>\n",
              "      <td>Qualifying</td>\n",
              "      <td>Jumping Spider</td>\n",
              "      <td>4</td>\n",
              "    </tr>\n",
              "    <tr>\n",
              "      <th>4</th>\n",
              "      <td>1</td>\n",
              "      <td>Venice</td>\n",
              "      <td>Qualifying</td>\n",
              "      <td>Pipe Slider</td>\n",
              "      <td>5</td>\n",
              "    </tr>\n",
              "  </tbody>\n",
              "</table>\n",
              "</div>"
            ],
            "text/plain": [
              "   Season Location Round/Stage    Obstacle Name  Obstacle Order\n",
              "0       1   Venice  Qualifying  Quintuple Steps               1\n",
              "1       1   Venice  Qualifying       Rope Swing               2\n",
              "2       1   Venice  Qualifying   Rolling Barrel               3\n",
              "3       1   Venice  Qualifying   Jumping Spider               4\n",
              "4       1   Venice  Qualifying      Pipe Slider               5"
            ]
          },
          "metadata": {
            "tags": []
          },
          "execution_count": 6
        }
      ]
    },
    {
      "metadata": {
        "id": "xyilcFYJ-NuK",
        "colab_type": "text"
      },
      "cell_type": "markdown",
      "source": [
        "With the head() function, I get a general idea of what the data is like. This dataset in particular is quite small and not representative of the super crazy huge sets that most businesses work with. \n",
        "\n",
        "### I can see that there are five variables (or features): Season, Location, Round/Stage, Obstacle Name, Obstacle Order.\n",
        "\n",
        "## Let's dig a little deeper."
      ]
    },
    {
      "metadata": {
        "id": "HT-iDRh1opP_",
        "colab_type": "code",
        "outputId": "ce34c0dc-e286-4267-e0d3-99906afc8ad2",
        "colab": {
          "base_uri": "https://localhost:8080/",
          "height": 294
        }
      },
      "cell_type": "code",
      "source": [
        "amwDat.describe()"
      ],
      "execution_count": 0,
      "outputs": [
        {
          "output_type": "execute_result",
          "data": {
            "text/html": [
              "<div>\n",
              "<style scoped>\n",
              "    .dataframe tbody tr th:only-of-type {\n",
              "        vertical-align: middle;\n",
              "    }\n",
              "\n",
              "    .dataframe tbody tr th {\n",
              "        vertical-align: top;\n",
              "    }\n",
              "\n",
              "    .dataframe thead th {\n",
              "        text-align: right;\n",
              "    }\n",
              "</style>\n",
              "<table border=\"1\" class=\"dataframe\">\n",
              "  <thead>\n",
              "    <tr style=\"text-align: right;\">\n",
              "      <th></th>\n",
              "      <th>Season</th>\n",
              "      <th>Obstacle Order</th>\n",
              "    </tr>\n",
              "  </thead>\n",
              "  <tbody>\n",
              "    <tr>\n",
              "      <th>count</th>\n",
              "      <td>889.000000</td>\n",
              "      <td>889.000000</td>\n",
              "    </tr>\n",
              "    <tr>\n",
              "      <th>mean</th>\n",
              "      <td>6.422947</td>\n",
              "      <td>4.577053</td>\n",
              "    </tr>\n",
              "    <tr>\n",
              "      <th>std</th>\n",
              "      <td>2.573901</td>\n",
              "      <td>2.583509</td>\n",
              "    </tr>\n",
              "    <tr>\n",
              "      <th>min</th>\n",
              "      <td>1.000000</td>\n",
              "      <td>1.000000</td>\n",
              "    </tr>\n",
              "    <tr>\n",
              "      <th>25%</th>\n",
              "      <td>4.000000</td>\n",
              "      <td>2.000000</td>\n",
              "    </tr>\n",
              "    <tr>\n",
              "      <th>50%</th>\n",
              "      <td>7.000000</td>\n",
              "      <td>4.000000</td>\n",
              "    </tr>\n",
              "    <tr>\n",
              "      <th>75%</th>\n",
              "      <td>9.000000</td>\n",
              "      <td>6.000000</td>\n",
              "    </tr>\n",
              "    <tr>\n",
              "      <th>max</th>\n",
              "      <td>10.000000</td>\n",
              "      <td>10.000000</td>\n",
              "    </tr>\n",
              "  </tbody>\n",
              "</table>\n",
              "</div>"
            ],
            "text/plain": [
              "           Season  Obstacle Order\n",
              "count  889.000000      889.000000\n",
              "mean     6.422947        4.577053\n",
              "std      2.573901        2.583509\n",
              "min      1.000000        1.000000\n",
              "25%      4.000000        2.000000\n",
              "50%      7.000000        4.000000\n",
              "75%      9.000000        6.000000\n",
              "max     10.000000       10.000000"
            ]
          },
          "metadata": {
            "tags": []
          },
          "execution_count": 7
        }
      ]
    },
    {
      "metadata": {
        "id": "15J-TkAsI2px",
        "colab_type": "code",
        "colab": {}
      },
      "cell_type": "code",
      "source": [
        "amwDat['Season'] = amwDat['Season'].astype('int')\n",
        "amwDat['Obstacle Order'] = amwDat['Obstacle Order'].astype('int')"
      ],
      "execution_count": 0,
      "outputs": []
    },
    {
      "metadata": {
        "id": "e5iUu1XUI_TR",
        "colab_type": "text"
      },
      "cell_type": "markdown",
      "source": [
        "Here, we can convert the columns Season and Obstacle into integer vectors"
      ]
    },
    {
      "metadata": {
        "id": "-MMQQ-6PoznH",
        "colab_type": "code",
        "outputId": "c73aeedb-3dd1-4652-c3f6-6b6dff2c7e1c",
        "colab": {
          "base_uri": "https://localhost:8080/",
          "height": 191
        }
      },
      "cell_type": "code",
      "source": [
        "amwDat.info()"
      ],
      "execution_count": 0,
      "outputs": [
        {
          "output_type": "stream",
          "text": [
            "<class 'pandas.core.frame.DataFrame'>\n",
            "RangeIndex: 889 entries, 0 to 888\n",
            "Data columns (total 5 columns):\n",
            "Season            889 non-null int64\n",
            "Location          889 non-null object\n",
            "Round/Stage       889 non-null object\n",
            "Obstacle Name     889 non-null object\n",
            "Obstacle Order    889 non-null int64\n",
            "dtypes: int64(2), object(3)\n",
            "memory usage: 34.8+ KB\n"
          ],
          "name": "stdout"
        }
      ]
    },
    {
      "metadata": {
        "id": "rEOkCTy8_Fil",
        "colab_type": "text"
      },
      "cell_type": "markdown",
      "source": [
        "What we have here is a dataframe with five columns, each with 889 entries. Two of the columns, season and obstacle order, are integer vectors, and three of the columns, location, round/stage, and obstacle name, are object vectors."
      ]
    },
    {
      "metadata": {
        "id": "TTQcu2kyGyi2",
        "colab_type": "text"
      },
      "cell_type": "markdown",
      "source": [
        "## Let's take a look at the unique values in each column"
      ]
    },
    {
      "metadata": {
        "id": "YshotvaBFaSn",
        "colab_type": "code",
        "outputId": "a69fba55-5302-4ef7-d4ce-68aeb2162b12",
        "colab": {
          "base_uri": "https://localhost:8080/",
          "height": 1404
        }
      },
      "cell_type": "code",
      "source": [
        "colNames = list(amwDat)\n",
        "for col in colNames:\n",
        "  print(col)\n",
        "  print(amwDat[col].unique())\n",
        "  print('\\n')"
      ],
      "execution_count": 0,
      "outputs": [
        {
          "output_type": "stream",
          "text": [
            "Season\n",
            "[ 1  2  3  4  5  6  7  8  9 10]\n",
            "\n",
            "\n",
            "Location\n",
            "['Venice' 'Sasuke 23 (Japan)' 'Sasuke 26 (Japan)' 'Sasuke 27 (Japan)'\n",
            " 'Southwest' 'Midwest' 'Northeast' 'Northwest' 'Mid-South' 'Southeast'\n",
            " 'Las Vegas' 'Baltimore' 'Miami' 'Denver' 'Dallas' 'St. Louis'\n",
            " 'Pittsburgh' 'Orlando' 'Kansas City' 'Houston' 'San Pedro (Military)'\n",
            " 'Los Angeles' 'Atlanta' 'Indianapolis' 'Oklahoma City' 'Philadelphia'\n",
            " 'San Antonio' 'Daytona Beach' 'Cleveland' 'Minneapolis']\n",
            "\n",
            "\n",
            "Round/Stage\n",
            "['Qualifying' 'Semi-Finals' 'National Finals - Stage 1'\n",
            " 'National Finals - Stage 2' 'National Finals - Stage 3'\n",
            " 'National Finals - Stage 4' 'Qualifying (Regional/City)'\n",
            " 'Finals (Regional/City)']\n",
            "\n",
            "\n",
            "Obstacle Name\n",
            "['Quintuple Steps' 'Rope Swing' 'Rolling Barrel' 'Jumping Spider'\n",
            " 'Pipe Slider' 'Warped Wall' 'Tarzan Swing' 'Jumping Bars' 'Cargo Climb'\n",
            " 'Twelve Timbers' 'Curtain Slider' 'Log Grip' 'Half-Pipe Attack'\n",
            " 'Slider Jump' 'Tarzan Rope' 'Rope Ladder' 'Downhill Jump' 'Salmon Ladder'\n",
            " 'Stick Slider' 'Unstable Bridge' 'Metal Spin' 'Wall Lift' 'Arm Rings'\n",
            " 'Descending Lamp Grasper' 'Devil Steps' 'Shin Cliffhanger' 'Hang Climb'\n",
            " 'Spider Flip' 'Gliding Ring' 'Heavenly Ladder' 'G-Rope' 'Quad Steps'\n",
            " 'Bridge of Blades' 'Circle Slider' 'Step Slider' 'Hazard Swing'\n",
            " 'Rolling Escargot' 'Giant Swing' 'Slider Drop' 'Double Salmon Ladder'\n",
            " 'Balance Tank' 'Roulette Cylinder' 'Doorknob Grasper' 'Cycle Road'\n",
            " 'Ultimate Cliffhanger' 'Swing Circle' 'Bungee Rope Climb' 'Flying Bar'\n",
            " 'Rope Climb' 'Jump Hang' 'Spinning Bridge' 'Arm Bike' 'Jumping Rings'\n",
            " 'Chain Seesaw' 'Bar Glider' 'Spinning Log' 'Lamp Grasper' 'Bungee Bridge'\n",
            " 'Pipe Slider / Devil Steps' 'Rope Junction' 'Rolling Log'\n",
            " 'Floating Boards' 'Frame Slider' 'Domino Hill' 'Floating Chains'\n",
            " 'Flying Nunchuks / Trapeze Swing' 'Rope Maze' 'Cliffhanger'\n",
            " 'Spider Climb' 'Prism Tilt' 'Swing Jump' 'Circle Cross' 'Rumbling Dice'\n",
            " 'Body Prop' 'Utility Pole Slider' 'Balance Bridge' 'Monkey Pegs'\n",
            " 'Ledge Jump' 'Rolling Steel' 'Rotating Bridge' 'Jump Hang Kai'\n",
            " 'Grip Hang' 'Floating Stairs' 'Pole Grasper' 'Timbers' 'Giant Ring'\n",
            " 'Rope Glider' 'Hang Slider' 'Spinning Wheel' 'Slack Ladder'\n",
            " 'Jumping Bars into Cargo Net' 'Cannonball Alley' 'Tilting Table'\n",
            " 'Ring Toss' 'Swinging Frames' 'Rope Swing Into Cargo Net'\n",
            " 'Double Tilt Ladder' 'Crazy Cliffhanger' 'Downhill Pipe Drop'\n",
            " 'Dancing Stones' 'Minefield' 'Cat Grab' 'Spikes Into Cargo Net'\n",
            " 'Doorknob Arch' 'Piston Road' 'Silk Slider' 'Rope Jungle'\n",
            " 'Butterfly Wall' 'Cannonball Incline' 'Propeller Bar' 'Snake Crossing'\n",
            " 'Wind Chimes' 'Floating Monkey Bars' 'Invisible Ladder' 'Paddle Boards'\n",
            " 'Tire Swing' 'Double Helix' 'Big Dipper' 'Floating Tiles'\n",
            " '(Modified) Ring Toss' 'Bungee Road' 'Flying Shelf Grab'\n",
            " 'Mini Silk Slider' 'Spin Cycle' 'Hourglass Drop' 'Clear Climb'\n",
            " 'Tilting Slider' 'Cargo Crossing' 'Swinging Spikes' 'Walking Bar'\n",
            " 'Log Runner' 'I-Beam Crossing' 'Globe Grasper' 'Sonic Curve' 'Coin Flip'\n",
            " 'Triple Swing' 'Roulette Row' 'Psycho Chainsaw' 'Area 51'\n",
            " 'Floating Steps' 'Tick Tock' 'Escalator' 'Ring Jump' 'I-Beam Cross'\n",
            " 'The Wedge' 'Helix Hang' 'Block Run' 'Pipe Fitter' 'The Clacker'\n",
            " 'Fly Wheels' 'Disc Runner' 'Circuit Board' 'Ring Swing' 'Bar Hop'\n",
            " 'Window Hang' 'Wall Drop' 'Rolling Thunder' 'Stair Hopper' 'Snake Run'\n",
            " 'Giant Log Grip' 'Broken Bridge' 'Flying Squirrel' 'Giant Ring Swing'\n",
            " 'Down Up Salmon Ladder' 'Wave Runner' 'Double Wedge' 'Wall Flip'\n",
            " 'Keylock Hang' 'Curved Body Prop' 'Cannonball Drop' 'Battering Ram'\n",
            " 'Swinging Peg Board' 'Elevator Climb' 'Sky Hooks' 'Spinball Wizard'\n",
            " 'Rolling Pin' 'Wingnuts' 'Giant Cubes' 'Hang Glider' 'Broken Pipes'\n",
            " 'Crank It Up' 'Iron Maiden' \"Razor's Edge\" 'I-Beam Gap' 'Nail Clipper'\n",
            " 'Bouncing Spider' 'Rail Runner' 'Ninjago Roll' 'Double Dipper'\n",
            " 'Parkour Run' 'Domino Pipes' 'Criss Cross Salmon Ladder' 'Swing Surfer'\n",
            " 'Wingnut Alley' 'Peg Cloud' 'Time Bomb' 'Jumper Cables' 'Doorknob Drop'\n",
            " 'Warped Wall / Mega Wall' 'Archer Steps' 'Baton Pass' 'Spider Trap'\n",
            " 'Catch & Release' 'Tuning Forks' 'Fallout' 'Ring Turn' 'Slippery Summit'\n",
            " 'Crazy Clocks' 'Wheel Flip' 'Spin Hopper' 'Cane Lane' 'Spinning Bowties'\n",
            " 'Lightning Bolts' \"Captain's Wheel\" 'Double Twister' 'Diamond Dash'\n",
            " 'The Hinge' 'Archer Alley' 'Jeep Run' 'Razor Beams' 'Twist & Fly'\n",
            " 'Epic Catch & Release' 'Deja Vu' 'Water Walls' 'En Garde']\n",
            "\n",
            "\n",
            "Obstacle Order\n",
            "[ 1  2  3  4  5  6  7  8  9 10]\n",
            "\n",
            "\n"
          ],
          "name": "stdout"
        }
      ]
    },
    {
      "metadata": {
        "id": "5OFl0SZ3DKBl",
        "colab_type": "text"
      },
      "cell_type": "markdown",
      "source": [
        "### Before I visualize the data to get a (literal) picture of the data, I'm going to do some indexing to play around."
      ]
    },
    {
      "metadata": {
        "id": "8M9ERmc8DZYm",
        "colab_type": "code",
        "outputId": "afd0b804-44fe-4b4b-9960-3f4dd7239b95",
        "colab": {
          "base_uri": "https://localhost:8080/",
          "height": 355
        }
      },
      "cell_type": "code",
      "source": [
        "amwDat.loc[(amwDat['Obstacle Name'] != 'Rope Swing') & (amwDat['Round/Stage'] == 'Qualifying') & (amwDat['Obstacle Order'] < 5)]"
      ],
      "execution_count": 0,
      "outputs": [
        {
          "output_type": "execute_result",
          "data": {
            "text/html": [
              "<div>\n",
              "<style scoped>\n",
              "    .dataframe tbody tr th:only-of-type {\n",
              "        vertical-align: middle;\n",
              "    }\n",
              "\n",
              "    .dataframe tbody tr th {\n",
              "        vertical-align: top;\n",
              "    }\n",
              "\n",
              "    .dataframe thead th {\n",
              "        text-align: right;\n",
              "    }\n",
              "</style>\n",
              "<table border=\"1\" class=\"dataframe\">\n",
              "  <thead>\n",
              "    <tr style=\"text-align: right;\">\n",
              "      <th></th>\n",
              "      <th>Season</th>\n",
              "      <th>Location</th>\n",
              "      <th>Round/Stage</th>\n",
              "      <th>Obstacle Name</th>\n",
              "      <th>Obstacle Order</th>\n",
              "    </tr>\n",
              "  </thead>\n",
              "  <tbody>\n",
              "    <tr>\n",
              "      <th>0</th>\n",
              "      <td>1</td>\n",
              "      <td>Venice</td>\n",
              "      <td>Qualifying</td>\n",
              "      <td>Quintuple Steps</td>\n",
              "      <td>1</td>\n",
              "    </tr>\n",
              "    <tr>\n",
              "      <th>2</th>\n",
              "      <td>1</td>\n",
              "      <td>Venice</td>\n",
              "      <td>Qualifying</td>\n",
              "      <td>Rolling Barrel</td>\n",
              "      <td>3</td>\n",
              "    </tr>\n",
              "    <tr>\n",
              "      <th>3</th>\n",
              "      <td>1</td>\n",
              "      <td>Venice</td>\n",
              "      <td>Qualifying</td>\n",
              "      <td>Jumping Spider</td>\n",
              "      <td>4</td>\n",
              "    </tr>\n",
              "    <tr>\n",
              "      <th>40</th>\n",
              "      <td>2</td>\n",
              "      <td>Venice</td>\n",
              "      <td>Qualifying</td>\n",
              "      <td>Quad Steps</td>\n",
              "      <td>1</td>\n",
              "    </tr>\n",
              "    <tr>\n",
              "      <th>42</th>\n",
              "      <td>2</td>\n",
              "      <td>Venice</td>\n",
              "      <td>Qualifying</td>\n",
              "      <td>Bridge of Blades</td>\n",
              "      <td>3</td>\n",
              "    </tr>\n",
              "    <tr>\n",
              "      <th>43</th>\n",
              "      <td>2</td>\n",
              "      <td>Venice</td>\n",
              "      <td>Qualifying</td>\n",
              "      <td>Jumping Spider</td>\n",
              "      <td>4</td>\n",
              "    </tr>\n",
              "    <tr>\n",
              "      <th>78</th>\n",
              "      <td>3</td>\n",
              "      <td>Venice</td>\n",
              "      <td>Qualifying</td>\n",
              "      <td>Quad Steps</td>\n",
              "      <td>1</td>\n",
              "    </tr>\n",
              "    <tr>\n",
              "      <th>79</th>\n",
              "      <td>3</td>\n",
              "      <td>Venice</td>\n",
              "      <td>Qualifying</td>\n",
              "      <td>Log Grip</td>\n",
              "      <td>2</td>\n",
              "    </tr>\n",
              "    <tr>\n",
              "      <th>80</th>\n",
              "      <td>3</td>\n",
              "      <td>Venice</td>\n",
              "      <td>Qualifying</td>\n",
              "      <td>Bridge of Blades</td>\n",
              "      <td>3</td>\n",
              "    </tr>\n",
              "    <tr>\n",
              "      <th>81</th>\n",
              "      <td>3</td>\n",
              "      <td>Venice</td>\n",
              "      <td>Qualifying</td>\n",
              "      <td>Jump Hang</td>\n",
              "      <td>4</td>\n",
              "    </tr>\n",
              "  </tbody>\n",
              "</table>\n",
              "</div>"
            ],
            "text/plain": [
              "    Season Location Round/Stage     Obstacle Name  Obstacle Order\n",
              "0        1   Venice  Qualifying   Quintuple Steps               1\n",
              "2        1   Venice  Qualifying    Rolling Barrel               3\n",
              "3        1   Venice  Qualifying    Jumping Spider               4\n",
              "40       2   Venice  Qualifying        Quad Steps               1\n",
              "42       2   Venice  Qualifying  Bridge of Blades               3\n",
              "43       2   Venice  Qualifying    Jumping Spider               4\n",
              "78       3   Venice  Qualifying        Quad Steps               1\n",
              "79       3   Venice  Qualifying          Log Grip               2\n",
              "80       3   Venice  Qualifying  Bridge of Blades               3\n",
              "81       3   Venice  Qualifying         Jump Hang               4"
            ]
          },
          "metadata": {
            "tags": []
          },
          "execution_count": 11
        }
      ]
    },
    {
      "metadata": {
        "id": "MB479RdOJOy3",
        "colab_type": "text"
      },
      "cell_type": "markdown",
      "source": [
        "This is a very random random of indexing, but I found it interesting. Notice how after I've limited Obstacle Name to everything but 'Rope Swing', Round/Stage to 'Qualifying', and making Obstacle Order less than 5, there are only 10 entries left."
      ]
    },
    {
      "metadata": {
        "id": "p8srEzadHCs0",
        "colab_type": "text"
      },
      "cell_type": "markdown",
      "source": [
        "## I need to also check for any missing values in the data, because those dudes can be very pesky."
      ]
    },
    {
      "metadata": {
        "id": "jZYcuUknAyAr",
        "colab_type": "code",
        "outputId": "102c3169-ac6d-4e41-a3f8-c8d11c6fac24",
        "colab": {
          "base_uri": "https://localhost:8080/",
          "height": 121
        }
      },
      "cell_type": "code",
      "source": [
        "def num_missing(x):\n",
        "  return(sum(x.isnull()))\n",
        "\n",
        "# This function will help check each column in the dataframe to see if there are any missing values\n",
        "\n",
        "amwDat.apply(num_missing, axis=0)"
      ],
      "execution_count": 0,
      "outputs": [
        {
          "output_type": "execute_result",
          "data": {
            "text/plain": [
              "Season            0\n",
              "Location          0\n",
              "Round/Stage       0\n",
              "Obstacle Name     0\n",
              "Obstacle Order    0\n",
              "dtype: int64"
            ]
          },
          "metadata": {
            "tags": []
          },
          "execution_count": 12
        }
      ]
    },
    {
      "metadata": {
        "id": "C1rH1SuXC_mH",
        "colab_type": "text"
      },
      "cell_type": "markdown",
      "source": [
        "Awesome! Every single column has zero missing values! This makes our job much easier!"
      ]
    },
    {
      "metadata": {
        "id": "B0uf8pByo02O",
        "colab_type": "code",
        "colab": {}
      },
      "cell_type": "code",
      "source": [
        "import matplotlib.pyplot as plt\n",
        "plt.style.use('seaborn-whitegrid')"
      ],
      "execution_count": 0,
      "outputs": []
    },
    {
      "metadata": {
        "id": "xKEHjEjCAb_Q",
        "colab_type": "text"
      },
      "cell_type": "markdown",
      "source": [
        "# Time to do some visualizations!"
      ]
    },
    {
      "metadata": {
        "id": "mw5aTGspInx4",
        "colab_type": "code",
        "outputId": "353baa97-94c2-4cab-a94c-ca8c49a1d636",
        "colab": {
          "base_uri": "https://localhost:8080/",
          "height": 294
        }
      },
      "cell_type": "code",
      "source": [
        "amwDat.plot.scatter(x='Season', y='Obstacle Order')"
      ],
      "execution_count": 0,
      "outputs": [
        {
          "output_type": "execute_result",
          "data": {
            "text/plain": [
              "<matplotlib.axes._subplots.AxesSubplot at 0x7f8a668032b0>"
            ]
          },
          "metadata": {
            "tags": []
          },
          "execution_count": 14
        },
        {
          "output_type": "display_data",
          "data": {
            "image/png": "[encoded data removed]",
            "text/plain": [
              "<Figure size 432x288 with 1 Axes>"
            ]
          },
          "metadata": {
            "tags": []
          }
        }
      ]
    },
    {
      "metadata": {
        "id": "GhoQvHG2L3QJ",
        "colab_type": "text"
      },
      "cell_type": "markdown",
      "source": [
        "## It only takes a few seconds to really just how silly this visualization is. Most of the data in this set is categorical and not numerical, and even those with numeric values are really just ordinal  data, meaning that they have a scale of low to high, but besides that, they don't have much numeric value."
      ]
    },
    {
      "metadata": {
        "id": "AXEa1ALEpHdr",
        "colab_type": "text"
      },
      "cell_type": "markdown",
      "source": [
        "# Now let's see which values appear most often for each column."
      ]
    },
    {
      "metadata": {
        "id": "mNWM2cPkLnih",
        "colab_type": "code",
        "outputId": "a6e92513-d849-40d9-f1b3-aace9332893c",
        "colab": {
          "base_uri": "https://localhost:8080/",
          "height": 485
        }
      },
      "cell_type": "code",
      "source": [
        "for column in colNames:\n",
        "  print(column)\n",
        "  print(amwDat[column].mode())\n",
        "  print('\\n')"
      ],
      "execution_count": 0,
      "outputs": [
        {
          "output_type": "stream",
          "text": [
            "Season\n",
            "0     7\n",
            "1     9\n",
            "2    10\n",
            "dtype: int64\n",
            "\n",
            "\n",
            "Location\n",
            "0    Las Vegas\n",
            "dtype: object\n",
            "\n",
            "\n",
            "Round/Stage\n",
            "0    Finals (Regional/City)\n",
            "dtype: object\n",
            "\n",
            "\n",
            "Obstacle Name\n",
            "0    Warped Wall\n",
            "dtype: object\n",
            "\n",
            "\n",
            "Obstacle Order\n",
            "0    1\n",
            "dtype: int64\n",
            "\n",
            "\n"
          ],
          "name": "stdout"
        }
      ]
    },
    {
      "metadata": {
        "id": "ljJdNHi3qVCZ",
        "colab_type": "text"
      },
      "cell_type": "markdown",
      "source": [
        "## From this we can see that the most common location in the dataset is Las Vegas, the most common round/stage listed in the dataset is the regional/city finals, and the most common obstacle is the warped wall."
      ]
    }
  ]
}